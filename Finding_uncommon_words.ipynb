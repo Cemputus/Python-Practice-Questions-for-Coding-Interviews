{
 "cells": [
  {
   "cell_type": "markdown",
   "metadata": {},
   "source": [
    "\n",
    "\n",
    "## Solving the Uncommon Words Problem in Python\n",
    "\n",
    "In coding interviews, a common problem involves finding uncommon words in two sentences. This article guides you through solving this problem using Python. The goal is to identify words that appear only once in each of the two given sentences.\n",
    "\n",
    "### Understanding the Problem\n",
    "\n",
    "A word is considered uncommon if it occurs exactly once in one sentence and does not appear in the other. The task is to find all such words in two given sentences.\n",
    "\n",
    "### Example Input and Output\n",
    "\n",
    "Consider the following example:\n",
    "\n",
    "```python\n",
    "sentence1 = \"the quick brown fox jumps over the lazy dog\"\n",
    "sentence2 = \"the quick brown dog jumps over the lazy fox\"\n",
    "```\n",
    "\n",
    "Output:\n",
    "```\n",
    "['fox', 'dog']\n",
    "```\n",
    "\n",
    "In this example, \"fox\" and \"dog\" are uncommon words since they occur exactly once in each sentence and do not appear in the other.\n",
    "\n",
    "\n"
   ]
  },
  {
   "cell_type": "code",
   "execution_count": 2,
   "metadata": {},
   "outputs": [
    {
     "name": "stdout",
     "output_type": "stream",
     "text": [
      "['sweet', 'sour']\n"
     ]
    }
   ],
   "source": [
    "\n",
    "### Python Solution\n",
    "\n",
    " #Python function to solve the Uncommon Words problem:\n",
    "\n",
    "def uncommonFromSentences(s1, s2):\n",
    "    words1 = s1.split()\n",
    "    words2 = s2.split()\n",
    "\n",
    "    counts = {}\n",
    "    for word in words1 + words2:\n",
    "        counts[word] = counts.get(word, 0) + 1\n",
    "\n",
    "    uncommon = [word for word in counts if counts[word] == 1]\n",
    "    return uncommon\n",
    "\n",
    "# Example Usage\n",
    "s1 = \"this apple is sweet\"\n",
    "s2 = \"this apple is sour\"\n",
    "print(uncommonFromSentences(s1, s2))"
   ]
  },
  {
   "cell_type": "markdown",
   "metadata": {},
   "source": [
    "\n",
    "### Code Explanation\n",
    "\n",
    "1. The function starts by splitting the input sentences `s1` and `s2` into individual words using the built-in `split()` function.\n",
    "2. It creates a dictionary (`counts`) to track the number of occurrences of each word in the two sentences.\n",
    "3. A for loop iterates through each word in both `words1` and `words2`, updating the corresponding count in the dictionary using the `.get()` method.\n",
    "4. The function then creates a list (`uncommon`) containing only the words that appear exactly once in either `s1` or `s2` using a list comprehension that checks the count of each word in `counts`.\n",
    "\n",
    "### Summary\n",
    "\n",
    "In summary, the Uncommon Words problem involves finding words that occur exactly once in one sentence and not in the other. The provided Python solution efficiently addresses this problem. \n",
    "\n",
    "###### cemputus💫"
   ]
  }
 ],
 "metadata": {
  "kernelspec": {
   "display_name": "Python 3",
   "language": "python",
   "name": "python3"
  },
  "language_info": {
   "codemirror_mode": {
    "name": "ipython",
    "version": 3
   },
   "file_extension": ".py",
   "mimetype": "text/x-python",
   "name": "python",
   "nbconvert_exporter": "python",
   "pygments_lexer": "ipython3",
   "version": "3.12.1"
  }
 },
 "nbformat": 4,
 "nbformat_minor": 2
}
