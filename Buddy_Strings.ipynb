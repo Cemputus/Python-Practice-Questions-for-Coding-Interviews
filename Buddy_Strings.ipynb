{
 "cells": [
  {
   "cell_type": "code",
   "execution_count": null,
   "metadata": {},
   "outputs": [],
   "source": []
  },
  {
   "cell_type": "markdown",
   "metadata": {},
   "source": [
    "\n",
    "**Buddy Strings Problem**\n",
    "\n",
    "The Buddy Strings problem entails determining if two strings can be made identical through a single letter swap. If such a swap is possible, the program should return True; otherwise, it should return False. Additionally, the program should return False if the two strings have different lengths.\n",
    "\n",
    "**Example:**\n",
    "\n",
    "Given input: s = \"ab\", goal = \"ba\"  \n",
    "Expected output: True  \n",
    "Explanation: The output is true because swapping the 'a' and 'b' in string 's' results in the desired 'goal' string.\n",
    "\n",
    "**Solving the Buddy Strings Problem using Python:**\n"
   ]
  },
  {
   "cell_type": "code",
   "execution_count": null,
   "metadata": {},
   "outputs": [],
   "source": [
    "def buddyStrings(s, goal):\n",
    "    if len(s) != len(goal):\n",
    "        return False\n",
    "    if s == goal:\n",
    "        return len(set(s)) < len(s)\n",
    "    diffs = [(a, b) for a, b in zip(s, goal) if a != b]\n",
    "    return len(diffs) == 2 and diffs[0] == diffs[1][::-1]\n",
    "\n",
    "s = \"ab\"\n",
    "goal = \"ba\"\n",
    "print(buddyStrings(s, goal))\n"
   ]
  },
  {
   "cell_type": "markdown",
   "metadata": {},
   "source": [
    "\n",
    "\n",
    "\n",
    "**Explanation of the code:**\n",
    "\n",
    "1. The function takes two strings 's' and 'goal' as input.\n",
    "2. It first checks if 's' and 'goal' have the same length. If not, it returns False.\n",
    "3. If 's' and 'goal' are the same string, the function checks if there are repeated characters in 's'. If so, it indicates that swapping them could make 's' and 'goal' identical.\n",
    "4. If 's' and 'goal' are different strings, the function identifies the indices where they differ. It then checks if only two differences exist between 's' and 'goal' and if these differences can be swapped to make them identical.\n",
    "5. Finally, the function returns True if the conditions are met, and False otherwise.\n",
    "\n",
    "This Python solution effectively addresses the Buddy Strings problem. For more coding interview practice questions solved and explained using Python, you can explore further resources.\n",
    "\n",
    "**Summary:**\n",
    "\n",
    "The Buddy Strings problem requires determining if two strings can be made identical through a single letter swap. If such a swap is possible, the program should return True; otherwise, it should return False. This article presents a Python solution to this problem and offers insights into its implementation."
   ]
  }
 ],
 "metadata": {
  "language_info": {
   "name": "python"
  }
 },
 "nbformat": 4,
 "nbformat_minor": 2
}
