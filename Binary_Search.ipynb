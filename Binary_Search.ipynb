{
 "cells": [
  {
   "cell_type": "code",
   "execution_count": null,
   "metadata": {},
   "outputs": [],
   "source": []
  },
  {
   "cell_type": "markdown",
   "metadata": {},
   "source": [
    "\n",
    "## Implementing Binary Search in Python\n",
    "\n",
    "Binary Search is a fundamental algorithm used to find an element in a sorted array by repeatedly dividing the search interval in half. This article provides an implementation of the Binary Search algorithm using Python, making it suitable for coding interviews or any scenario where efficient searching is required.\n",
    "\n",
    "### Binary Search Algorithm Overview\n",
    "\n",
    "1. Define a search range spanning the entire array.\n",
    "2. Compare the target value with the middle element of the search range.\n",
    "3. If the target value is equal to the middle element, return its index.\n",
    "4. If the target value is less than the middle element, discard the upper half of the search range and repeat step 2 with the lower half.\n",
    "5. If the target value is greater than the middle element, discard the lower half of the search range and repeat step 2 with the upper half.\n",
    "6. Repeat steps 2 through 5 until the target value is found or the search range is empty.\n",
    "\n",
    "### Example Input and Output\n",
    "\n",
    "Consider the following example:\n",
    "\n",
    "```python\n",
    "Input: [-1, 0, 3, 5, 9, 12]\n",
    "Target: 9\n",
    "Output: 4\n",
    "```\n",
    "\n",
    "This signifies that the target value `9` is found at index `4` in the given sorted array.\n",
    "\n",
    "\n"
   ]
  },
  {
   "cell_type": "code",
   "execution_count": 1,
   "metadata": {},
   "outputs": [
    {
     "name": "stdout",
     "output_type": "stream",
     "text": [
      "4\n"
     ]
    }
   ],
   "source": [
    "\n",
    "### Python Implementation\n",
    "\n",
    "def search(nums, target):\n",
    "    low = 0\n",
    "    high = len(nums) - 1\n",
    "\n",
    "    while low <= high:\n",
    "        mid = (low + high) // 2\n",
    "\n",
    "        if nums[mid] == target:\n",
    "            return mid\n",
    "        elif nums[mid] < target:\n",
    "            low = mid + 1\n",
    "        else:\n",
    "            high = mid - 1\n",
    "\n",
    "    return -1\n",
    "\n",
    "# Example Usage\n",
    "nums = [-1, 0, 3, 5, 9, 12]\n",
    "target = 9\n",
    "result = search(nums, target)\n",
    "print(result)\n"
   ]
  },
  {
   "cell_type": "markdown",
   "metadata": {},
   "source": [
    "### Code Explanation\n",
    "\n",
    "1. Initialize two variables, `low` and `high`, defining the search range as the entire array.\n",
    "2. Use a while loop to repeatedly halve the search interval until the target element is found or the search interval is empty.\n",
    "3. Calculate the index of the middle element using the formula `(low + high) // 2`.\n",
    "4. Compare the target value with the middle element and adjust the search range accordingly.\n",
    "5. If the target element is not found after all iterations, return `-1`.\n",
    "\n",
    "### Summary\n",
    "\n",
    "Binary Search is a powerful algorithm for efficiently finding elements in a sorted array. This Python implementation provides a clear understanding of how the algorithm works. Feel free to use and adapt this code for your coding interviews or practice."
   ]
  }
 ],
 "metadata": {
  "kernelspec": {
   "display_name": "Python 3",
   "language": "python",
   "name": "python3"
  },
  "language_info": {
   "codemirror_mode": {
    "name": "ipython",
    "version": 3
   },
   "file_extension": ".py",
   "mimetype": "text/x-python",
   "name": "python",
   "nbconvert_exporter": "python",
   "pygments_lexer": "ipython3",
   "version": "3.12.1"
  }
 },
 "nbformat": 4,
 "nbformat_minor": 2
}
